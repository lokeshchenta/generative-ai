{
 "cells": [
  {
   "cell_type": "markdown",
   "id": "69387175",
   "metadata": {},
   "source": [
    "# Restaurant Recommender AI"
   ]
  },
  {
   "cell_type": "markdown",
   "id": "3069d6ca",
   "metadata": {},
   "source": [
    "### Objective:\n",
    "Building a Restaurant Recommender AI system to assist users in finding the perfect dining spot based on their preferences. The application utilizes OpenAI model to generate restaurant recommendations by considering various factors such as location, cuisine preferences, restaurant type and user ratings."
   ]
  },
  {
   "cell_type": "code",
   "execution_count": null,
   "id": "5c4f741c",
   "metadata": {},
   "outputs": [],
   "source": []
  },
  {
   "cell_type": "code",
   "execution_count": 5,
   "id": "2dec39df",
   "metadata": {},
   "outputs": [],
   "source": [
    "# Import the libraries\n",
    "import pandas as pd\n",
    "from IPython.display import display, HTML\n",
    "# Set the display width to control the output width\n",
    "pd.set_option('display.width', 100)"
   ]
  },
  {
   "cell_type": "code",
   "execution_count": 6,
   "id": "d54e6ff1",
   "metadata": {},
   "outputs": [
    {
     "data": {
      "text/plain": [
       "(6984, 10)"
      ]
     },
     "execution_count": 6,
     "metadata": {},
     "output_type": "execute_result"
    }
   ],
   "source": [
    "# Read the Restaurants dataset \n",
    "rests_df = pd.read_csv('blr_all_restaurants.csv')\n",
    "rests_df.shape"
   ]
  },
  {
   "cell_type": "code",
   "execution_count": 7,
   "id": "b222476e",
   "metadata": {},
   "outputs": [
    {
     "data": {
      "text/html": [
       "<div>\n",
       "<style scoped>\n",
       "    .dataframe tbody tr th:only-of-type {\n",
       "        vertical-align: middle;\n",
       "    }\n",
       "\n",
       "    .dataframe tbody tr th {\n",
       "        vertical-align: top;\n",
       "    }\n",
       "\n",
       "    .dataframe thead th {\n",
       "        text-align: right;\n",
       "    }\n",
       "</style>\n",
       "<table border=\"1\" class=\"dataframe\">\n",
       "  <thead>\n",
       "    <tr style=\"text-align: right;\">\n",
       "      <th></th>\n",
       "      <th>restaurant name</th>\n",
       "      <th>restaurant type</th>\n",
       "      <th>rate (out of 5)</th>\n",
       "      <th>num of ratings</th>\n",
       "      <th>avg cost (two people)</th>\n",
       "      <th>online_order</th>\n",
       "      <th>table booking</th>\n",
       "      <th>cuisines type</th>\n",
       "      <th>area</th>\n",
       "      <th>local address</th>\n",
       "    </tr>\n",
       "  </thead>\n",
       "  <tbody>\n",
       "    <tr>\n",
       "      <th>0</th>\n",
       "      <td>#FeelTheROLL</td>\n",
       "      <td>Quick Bites</td>\n",
       "      <td>3.4</td>\n",
       "      <td>7</td>\n",
       "      <td>200.0</td>\n",
       "      <td>No</td>\n",
       "      <td>No</td>\n",
       "      <td>Fast Food</td>\n",
       "      <td>Bellandur</td>\n",
       "      <td>Bellandur</td>\n",
       "    </tr>\n",
       "    <tr>\n",
       "      <th>1</th>\n",
       "      <td>#L-81 Cafe</td>\n",
       "      <td>Quick Bites</td>\n",
       "      <td>3.9</td>\n",
       "      <td>48</td>\n",
       "      <td>400.0</td>\n",
       "      <td>Yes</td>\n",
       "      <td>No</td>\n",
       "      <td>Fast Food, Beverages</td>\n",
       "      <td>Byresandra,Tavarekere,Madiwala</td>\n",
       "      <td>HSR</td>\n",
       "    </tr>\n",
       "    <tr>\n",
       "      <th>2</th>\n",
       "      <td>#refuel</td>\n",
       "      <td>Cafe</td>\n",
       "      <td>3.7</td>\n",
       "      <td>37</td>\n",
       "      <td>400.0</td>\n",
       "      <td>Yes</td>\n",
       "      <td>No</td>\n",
       "      <td>Cafe, Beverages</td>\n",
       "      <td>Bannerghatta Road</td>\n",
       "      <td>Bannerghatta Road</td>\n",
       "    </tr>\n",
       "    <tr>\n",
       "      <th>3</th>\n",
       "      <td>'@ Biryani Central</td>\n",
       "      <td>Casual Dining</td>\n",
       "      <td>2.7</td>\n",
       "      <td>135</td>\n",
       "      <td>550.0</td>\n",
       "      <td>Yes</td>\n",
       "      <td>No</td>\n",
       "      <td>Biryani, Mughlai, Chinese</td>\n",
       "      <td>Marathahalli</td>\n",
       "      <td>Marathahalli</td>\n",
       "    </tr>\n",
       "    <tr>\n",
       "      <th>4</th>\n",
       "      <td>'@ The Bbq</td>\n",
       "      <td>Casual Dining</td>\n",
       "      <td>2.8</td>\n",
       "      <td>40</td>\n",
       "      <td>700.0</td>\n",
       "      <td>Yes</td>\n",
       "      <td>No</td>\n",
       "      <td>BBQ, Continental, North Indian, Chinese, Bever...</td>\n",
       "      <td>Bellandur</td>\n",
       "      <td>Bellandur</td>\n",
       "    </tr>\n",
       "  </tbody>\n",
       "</table>\n",
       "</div>"
      ],
      "text/plain": [
       "      restaurant name restaurant type  rate (out of 5)  num of ratings  avg cost (two people)  \\\n",
       "0        #FeelTheROLL     Quick Bites              3.4               7                  200.0   \n",
       "1          #L-81 Cafe     Quick Bites              3.9              48                  400.0   \n",
       "2             #refuel            Cafe              3.7              37                  400.0   \n",
       "3  '@ Biryani Central   Casual Dining              2.7             135                  550.0   \n",
       "4          '@ The Bbq   Casual Dining              2.8              40                  700.0   \n",
       "\n",
       "  online_order table booking                                      cuisines type  \\\n",
       "0           No            No                                          Fast Food   \n",
       "1          Yes            No                               Fast Food, Beverages   \n",
       "2          Yes            No                                    Cafe, Beverages   \n",
       "3          Yes            No                          Biryani, Mughlai, Chinese   \n",
       "4          Yes            No  BBQ, Continental, North Indian, Chinese, Bever...   \n",
       "\n",
       "                             area      local address  \n",
       "0                       Bellandur          Bellandur  \n",
       "1  Byresandra,Tavarekere,Madiwala                HSR  \n",
       "2               Bannerghatta Road  Bannerghatta Road  \n",
       "3                    Marathahalli       Marathahalli  \n",
       "4                       Bellandur          Bellandur  "
      ]
     },
     "execution_count": 7,
     "metadata": {},
     "output_type": "execute_result"
    }
   ],
   "source": [
    "rests_df.head()"
   ]
  },
  {
   "cell_type": "code",
   "execution_count": 8,
   "id": "9504ad29",
   "metadata": {},
   "outputs": [
    {
     "name": "stdout",
     "output_type": "stream",
     "text": [
      "<class 'pandas.core.frame.DataFrame'>\n",
      "RangeIndex: 6984 entries, 0 to 6983\n",
      "Data columns (total 10 columns):\n",
      " #   Column                 Non-Null Count  Dtype  \n",
      "---  ------                 --------------  -----  \n",
      " 0   restaurant name        6984 non-null   object \n",
      " 1   restaurant type        6984 non-null   object \n",
      " 2   rate (out of 5)        6984 non-null   float64\n",
      " 3   num of ratings         6984 non-null   int64  \n",
      " 4   avg cost (two people)  6984 non-null   float64\n",
      " 5   online_order           6984 non-null   object \n",
      " 6   table booking          6984 non-null   object \n",
      " 7   cuisines type          6984 non-null   object \n",
      " 8   area                   6984 non-null   object \n",
      " 9   local address          6984 non-null   object \n",
      "dtypes: float64(2), int64(1), object(7)\n",
      "memory usage: 545.8+ KB\n"
     ]
    }
   ],
   "source": [
    "rests_df.info()"
   ]
  },
  {
   "cell_type": "code",
   "execution_count": null,
   "id": "e52650c2",
   "metadata": {},
   "outputs": [],
   "source": []
  },
  {
   "cell_type": "code",
   "execution_count": 9,
   "id": "64cc3163",
   "metadata": {},
   "outputs": [],
   "source": [
    "# Import the libraries\n",
    "import os, json, ast\n",
    "import openai"
   ]
  },
  {
   "cell_type": "code",
   "execution_count": 10,
   "id": "b2e178e0",
   "metadata": {},
   "outputs": [],
   "source": [
    "# Read the OpenAI API key\n",
    "openai.api_key = open(\"OPENAI_API_Key.txt\", \"r\").read().strip()\n",
    "os.environ['OPENAI_API_KEY'] = openai.api_key"
   ]
  },
  {
   "cell_type": "code",
   "execution_count": null,
   "id": "01df6e7c",
   "metadata": {},
   "outputs": [],
   "source": []
  },
  {
   "cell_type": "code",
   "execution_count": 11,
   "id": "1dd61de4",
   "metadata": {},
   "outputs": [],
   "source": [
    "# Define the OpenAI Model used for this project\n",
    "model='gpt-4o-mini'"
   ]
  },
  {
   "cell_type": "code",
   "execution_count": null,
   "id": "7ae3e85a",
   "metadata": {},
   "outputs": [],
   "source": []
  },
  {
   "cell_type": "markdown",
   "id": "7d50045b",
   "metadata": {},
   "source": [
    "![System_Design](system_design.png)"
   ]
  },
  {
   "cell_type": "code",
   "execution_count": null,
   "id": "1db58818",
   "metadata": {},
   "outputs": [],
   "source": []
  },
  {
   "cell_type": "code",
   "execution_count": 10,
   "id": "1ac3a7f1",
   "metadata": {},
   "outputs": [],
   "source": [
    "#Initializes the conversation with the system message.\n",
    "def initialize_conversation():\n",
    "\n",
    "    system_message = f\"\"\"\n",
    "    You are an intelligent and helpful restaurant recommendation system. \n",
    "    Your goal is to understand a user's restaurant preferences and create a detailed user profile dictionary to provide personalized recommendations.\n",
    "\n",
    "    **Instructions:**\n",
    "\n",
    "    1.  Engage the user in a natural and friendly conversation to gather information about their restaurant preferences.  Be polite and helpful.\n",
    "    2.  Focus on extracting details related to the following key aspects of their ideal restaurant:\n",
    "        *   **Restaurant Type:** (e.g., Casual Dining, Fine Dining, Pub etc.)\n",
    "        *   **Cuisine Type:** (e.g., North Indian, Thai, Biryani etc.)\n",
    "        *   **Cuisine Type:** Location (e.g., neighborhood, area etc.).\n",
    "        *   **Cost for Two:** (price for a meal for two people, pick only the value)\n",
    "    3.  Use chain-of-thought reasoning to guide the conversation.  This means thinking step-by-step about what information you need and asking questions that will help you obtain it.  Don't just ask all the questions at once; let the conversation flow naturally.\n",
    "    4.  Continue asking questions until you are confident you have accurately filled all the values in the user profile dictionary.  Don't be afraid to ask clarifying questions.\n",
    "    5.  Follow the conversation flow outlined below to ensure you achieve the desired outcome.\n",
    "    6.  Once you have gathered enough information, present the user profile dictionary to the user for confirmation.\n",
    "\n",
    "    **Conversation Flow (Chain of Thought):**\n",
    "\n",
    "    *   **Thought 1: Initial Understanding and Confident Values:** Begin by asking broad questions to understand the user's general preferences.  If the user provides information that clearly defines a value for one of the key aspects (Restaurant Type, Cuisine Type, Cost for Two), immediately update the user profile dictionary with that value.\n",
    "    *   **Thought 2: Filling Remaining Values:** Based on the information already gathered, ask more specific questions to fill in the remaining values in the user profile dictionary.  Use inferences and connections to guide your questions. For example, if the user mentions they like Italian food, you might ask if they prefer a casual pizzeria or a more upscale Italian restaurant.\n",
    "    *   **Thought 3: Confirmation and Verification:** Once you believe you have gathered enough information, summarize the user's preferences and present the completed user profile dictionary to the user. Ask them to confirm that the information is accurate and if they would like to make any changes.\n",
    "\n",
    "    **Example User Profile Dictionary (This is just a template, do not use these values unless the user provides them):**\n",
    "\n",
    "    ```json\n",
    "    {{\n",
    "      \"Restaurant Type\": null,\n",
    "      \"Cuisine Type\": null,\n",
    "      \"Location\": null,\n",
    "      \"Cost for Two\": null\n",
    "    }}\n",
    "    \"\"\"\n",
    "\n",
    "    conversation = [{\"role\": \"system\", \"content\": system_message}]\n",
    "    return conversation"
   ]
  },
  {
   "cell_type": "code",
   "execution_count": 11,
   "id": "02b16865",
   "metadata": {},
   "outputs": [
    {
     "name": "stdout",
     "output_type": "stream",
     "text": [
      "\n",
      "    You are an intelligent and helpful restaurant recommendation system. \n",
      "    Your goal is to understand a user's restaurant preferences and create a detailed user profile dictionary to provide personalized recommendations.\n",
      "\n",
      "    **Instructions:**\n",
      "\n",
      "    1.  Engage the user in a natural and friendly conversation to gather information about their restaurant preferences.  Be polite and helpful.\n",
      "    2.  Focus on extracting details related to the following key aspects of their ideal restaurant:\n",
      "        *   **Restaurant Type:** (e.g., Casual Dining, Fine Dining, Pub etc.)\n",
      "        *   **Cuisine Type:** (e.g., North Indian, Thai, Biryani etc.)\n",
      "        *   **Cuisine Type:** Location (e.g., neighborhood, area etc.).\n",
      "        *   **Cost for Two:** (price for a meal for two people, pick only the value)\n",
      "    3.  Use chain-of-thought reasoning to guide the conversation.  This means thinking step-by-step about what information you need and asking questions that will help you obtain it.  Don't just ask all the questions at once; let the conversation flow naturally.\n",
      "    4.  Continue asking questions until you are confident you have accurately filled all the values in the user profile dictionary.  Don't be afraid to ask clarifying questions.\n",
      "    5.  Follow the conversation flow outlined below to ensure you achieve the desired outcome.\n",
      "    6.  Once you have gathered enough information, present the user profile dictionary to the user for confirmation.\n",
      "\n",
      "    **Conversation Flow (Chain of Thought):**\n",
      "\n",
      "    *   **Thought 1: Initial Understanding and Confident Values:** Begin by asking broad questions to understand the user's general preferences.  If the user provides information that clearly defines a value for one of the key aspects (Restaurant Type, Cuisine Type, Cost for Two), immediately update the user profile dictionary with that value.\n",
      "    *   **Thought 2: Filling Remaining Values:** Based on the information already gathered, ask more specific questions to fill in the remaining values in the user profile dictionary.  Use inferences and connections to guide your questions. For example, if the user mentions they like Italian food, you might ask if they prefer a casual pizzeria or a more upscale Italian restaurant.\n",
      "    *   **Thought 3: Confirmation and Verification:** Once you believe you have gathered enough information, summarize the user's preferences and present the completed user profile dictionary to the user. Ask them to confirm that the information is accurate and if they would like to make any changes.\n",
      "\n",
      "    **Example User Profile Dictionary (This is just a template, do not use these values unless the user provides them):**\n",
      "\n",
      "    ```json\n",
      "    {\n",
      "      \"Restaurant Type\": null,\n",
      "      \"Cuisine Type\": null,\n",
      "      \"Location\": null,\n",
      "      \"Cost for Two\": null\n",
      "    }\n",
      "    \n"
     ]
    }
   ],
   "source": [
    "# Let's initialise conversation\n",
    "system_message = initialize_conversation()\n",
    "print(system_message[0][\"content\"])"
   ]
  },
  {
   "cell_type": "code",
   "execution_count": 12,
   "id": "aacbf7a1",
   "metadata": {},
   "outputs": [
    {
     "name": "stdout",
     "output_type": "stream",
     "text": [
      "[{'role': 'system', 'content': '\\n    You are an intelligent and helpful restaurant recommendation system. \\n    Your goal is to understand a user\\'s restaurant preferences and create a detailed user profile dictionary to provide personalized recommendations.\\n\\n    **Instructions:**\\n\\n    1.  Engage the user in a natural and friendly conversation to gather information about their restaurant preferences.  Be polite and helpful.\\n    2.  Focus on extracting details related to the following key aspects of their ideal restaurant:\\n        *   **Restaurant Type:** (e.g., Casual Dining, Fine Dining, Pub etc.)\\n        *   **Cuisine Type:** (e.g., North Indian, Thai, Biryani etc.)\\n        *   **Cuisine Type:** Location (e.g., neighborhood, area etc.).\\n        *   **Cost for Two:** (price for a meal for two people, pick only the value)\\n    3.  Use chain-of-thought reasoning to guide the conversation.  This means thinking step-by-step about what information you need and asking questions that will help you obtain it.  Don\\'t just ask all the questions at once; let the conversation flow naturally.\\n    4.  Continue asking questions until you are confident you have accurately filled all the values in the user profile dictionary.  Don\\'t be afraid to ask clarifying questions.\\n    5.  Follow the conversation flow outlined below to ensure you achieve the desired outcome.\\n    6.  Once you have gathered enough information, present the user profile dictionary to the user for confirmation.\\n\\n    **Conversation Flow (Chain of Thought):**\\n\\n    *   **Thought 1: Initial Understanding and Confident Values:** Begin by asking broad questions to understand the user\\'s general preferences.  If the user provides information that clearly defines a value for one of the key aspects (Restaurant Type, Cuisine Type, Cost for Two), immediately update the user profile dictionary with that value.\\n    *   **Thought 2: Filling Remaining Values:** Based on the information already gathered, ask more specific questions to fill in the remaining values in the user profile dictionary.  Use inferences and connections to guide your questions. For example, if the user mentions they like Italian food, you might ask if they prefer a casual pizzeria or a more upscale Italian restaurant.\\n    *   **Thought 3: Confirmation and Verification:** Once you believe you have gathered enough information, summarize the user\\'s preferences and present the completed user profile dictionary to the user. Ask them to confirm that the information is accurate and if they would like to make any changes.\\n\\n    **Example User Profile Dictionary (This is just a template, do not use these values unless the user provides them):**\\n\\n    ```json\\n    {\\n      \"Restaurant Type\": null,\\n      \"Cuisine Type\": null,\\n      \"Location\": null,\\n      \"Cost for Two\": null\\n    }\\n    '}]\n"
     ]
    }
   ],
   "source": [
    "debug_conversation = initialize_conversation()\n",
    "print(debug_conversation)"
   ]
  },
  {
   "cell_type": "code",
   "execution_count": null,
   "id": "c8cac130",
   "metadata": {},
   "outputs": [],
   "source": []
  },
  {
   "cell_type": "code",
   "execution_count": 13,
   "id": "0e8fa9f4",
   "metadata": {},
   "outputs": [],
   "source": [
    "# Define a Chat Completions API call\n",
    "def get_chat_completions(input, json_format = False):\n",
    "    if json_format == True:\n",
    "        input[0]['content'] += '. Return output in JSON format.'\n",
    "        chat_response = openai.chat.completions.create(\n",
    "            model = model, \n",
    "            messages = input,\n",
    "            response_format = { \"type\": \"json_object\"},\n",
    "            seed = 123)\n",
    "        output = json.loads(chat_response.choices[0].message.content)\n",
    "    else:\n",
    "        chat_response = openai.chat.completions.create(\n",
    "            model = model, \n",
    "            messages = input, \n",
    "            seed = 123)\n",
    "        output = chat_response.choices[0].message.content\n",
    "        \n",
    "    return output"
   ]
  },
  {
   "cell_type": "code",
   "execution_count": null,
   "id": "84d51265",
   "metadata": {},
   "outputs": [],
   "source": []
  },
  {
   "cell_type": "code",
   "execution_count": 27,
   "id": "e9f86881",
   "metadata": {},
   "outputs": [
    {
     "name": "stdout",
     "output_type": "stream",
     "text": [
      "[{'role': 'system', 'content': '\\n    You are an intelligent and helpful restaurant recommendation system. \\n    Your goal is to understand a user\\'s restaurant preferences and create a detailed user profile dictionary to provide personalized recommendations.\\n\\n    **Instructions:**\\n\\n    1.  Engage the user in a natural and friendly conversation to gather information about their restaurant preferences.  Be polite and helpful.\\n    2.  Focus on extracting details related to the following key aspects of their ideal restaurant:\\n        *   **Restaurant Type:** (e.g., Casual Dining, Fine Dining, Pub etc.)\\n        *   **Cuisine Type:** (e.g., North Indian, Thai, Biryani etc.)\\n        *   **Cuisine Type:** Location (e.g., neighborhood, area etc.).\\n        *   **Cost for Two:** (price for a meal for two people, pick only the value)\\n    3.  Use chain-of-thought reasoning to guide the conversation.  This means thinking step-by-step about what information you need and asking questions that will help you obtain it.  Don\\'t just ask all the questions at once; let the conversation flow naturally.\\n    4.  Continue asking questions until you are confident you have accurately filled all the values in the user profile dictionary.  Don\\'t be afraid to ask clarifying questions.\\n    5.  Follow the conversation flow outlined below to ensure you achieve the desired outcome.\\n    6.  Once you have gathered enough information, present the user profile dictionary to the user for confirmation.\\n\\n    **Conversation Flow (Chain of Thought):**\\n\\n    *   **Thought 1: Initial Understanding and Confident Values:** Begin by asking broad questions to understand the user\\'s general preferences.  If the user provides information that clearly defines a value for one of the key aspects (Restaurant Type, Cuisine Type, Cost for Two), immediately update the user profile dictionary with that value.\\n    *   **Thought 2: Filling Remaining Values:** Based on the information already gathered, ask more specific questions to fill in the remaining values in the user profile dictionary.  Use inferences and connections to guide your questions. For example, if the user mentions they like Italian food, you might ask if they prefer a casual pizzeria or a more upscale Italian restaurant.\\n    *   **Thought 3: Confirmation and Verification:** Once you believe you have gathered enough information, summarize the user\\'s preferences and present the completed user profile dictionary to the user. Ask them to confirm that the information is accurate and if they would like to make any changes.\\n\\n    **Example User Profile Dictionary (This is just a template, do not use these values unless the user provides them):**\\n\\n    ```json\\n    {\\n      \"Restaurant Type\": null,\\n      \"Cuisine Type\": null,\\n      \"Location\": null,\\n      \"Cost for Two\": null\\n    }\\n    '}, {'role': 'user', 'content': 'Hi, I am looking for a Fine Dining restaurant, for korean food, in HSR. Budget around 2000'}, {'role': 'user', 'content': 'Hi, I am looking for a Fine Dining restaurant, for North Indian food, in Whitefield. Budget around 2000'}]\n"
     ]
    }
   ],
   "source": [
    "debug_user_input = \"Hi, I am looking for a Fine Dining restaurant, for North Indian food, in Whitefield. Budget around 2000\"\n",
    "debug_conversation.append({\"role\": \"user\", \"content\": debug_user_input})\n",
    "# Let's look at the debug_conversation list\n",
    "print(debug_conversation)"
   ]
  },
  {
   "cell_type": "code",
   "execution_count": 28,
   "id": "b55e49e5",
   "metadata": {},
   "outputs": [
    {
     "name": "stdout",
     "output_type": "stream",
     "text": [
      "Great! It sounds like you have some specific preferences in mind. Let me update your profile based on what you've shared.\n",
      "\n",
      "Here's what I have so far:\n",
      "\n",
      "```json\n",
      "{\n",
      "  \"Restaurant Type\": \"Fine Dining\",\n",
      "  \"Cuisine Type\": \"North Indian\",\n",
      "  \"Location\": \"Whitefield\",\n",
      "  \"Cost for Two\": 2000\n",
      "}\n",
      "```\n",
      "\n",
      "Is this information correct? Would you like to add or change anything?\n"
     ]
    }
   ],
   "source": [
    "# Getting the response from the LLM Assistant by passing the conversation to the Chat Completions API\n",
    "debug_response_assistant = get_chat_completions(debug_conversation)\n",
    "print(debug_response_assistant)"
   ]
  },
  {
   "cell_type": "code",
   "execution_count": null,
   "id": "e790dee9",
   "metadata": {},
   "outputs": [],
   "source": []
  },
  {
   "cell_type": "code",
   "execution_count": null,
   "id": "39239739",
   "metadata": {},
   "outputs": [],
   "source": []
  },
  {
   "cell_type": "code",
   "execution_count": 29,
   "id": "8662a4d7",
   "metadata": {},
   "outputs": [],
   "source": [
    "# Evaluates if the assistant has captured the user's profile clearly.\n",
    "def intent_confirmation_layer(response_assistant):\n",
    "\n",
    "    prompt = f\"\"\"\n",
    "    You are a senior evaluator who has an eye for detail.\n",
    "    The input text will contain a user requirement captured through keys.\n",
    "    You are provided an input. You need to evaluate if the input text has the following keys:\n",
    "    {{\n",
    "      \"Restaurant Type\": null,\n",
    "      \"Cuisine Type\": null,\n",
    "      \"Location\": null,\n",
    "      \"Cost for Two\": null\n",
    "    }}\n",
    "    Next you need to evaluate if the keys have the the values filled correctly.\n",
    "    Only output a one-word string in JSON format at the key 'result' - Yes/No.\n",
    "    Thought 1 - Output a string 'Yes' if the values are correctly filled for all keys, otherwise output 'No'.\n",
    "    Thought 2 - If the answer is No, mention the reason in the key 'reason'.\n",
    "    THought 3 - Think carefully before the answering.\n",
    "    \"\"\"\n",
    "\n",
    "    messages=[{\"role\": \"system\", \"content\":prompt },\n",
    "              {\"role\": \"user\", \"content\":f\"\"\"Here is the input: {response_assistant}\"\"\" }]\n",
    "\n",
    "    response = openai.chat.completions.create(\n",
    "                                    model=model,\n",
    "                                    messages = messages,\n",
    "                                    response_format={ \"type\": \"json_object\" },\n",
    "                                    seed = 123\n",
    "                                    )\n",
    "\n",
    "    json_output = json.loads(response.choices[0].message.content)\n",
    "\n",
    "    return json_output"
   ]
  },
  {
   "cell_type": "code",
   "execution_count": 30,
   "id": "87e13e25",
   "metadata": {},
   "outputs": [
    {
     "data": {
      "text/plain": [
       "'Great! It sounds like you have some specific preferences in mind. Let me update your profile based on what you\\'ve shared.\\n\\nHere\\'s what I have so far:\\n\\n```json\\n{\\n  \"Restaurant Type\": \"Fine Dining\",\\n  \"Cuisine Type\": \"North Indian\",\\n  \"Location\": \"Whitefield\",\\n  \"Cost for Two\": 2000\\n}\\n```\\n\\nIs this information correct? Would you like to add or change anything?'"
      ]
     },
     "execution_count": 30,
     "metadata": {},
     "output_type": "execute_result"
    }
   ],
   "source": [
    "debug_response_assistant"
   ]
  },
  {
   "cell_type": "code",
   "execution_count": 31,
   "id": "ee5f28f9",
   "metadata": {},
   "outputs": [
    {
     "data": {
      "text/plain": [
       "{'result': 'Yes'}"
      ]
     },
     "metadata": {},
     "output_type": "display_data"
    }
   ],
   "source": [
    "debug_confirmation = intent_confirmation_layer(debug_response_assistant)\n",
    "display(debug_confirmation)"
   ]
  },
  {
   "cell_type": "code",
   "execution_count": null,
   "id": "378671aa",
   "metadata": {},
   "outputs": [],
   "source": []
  },
  {
   "cell_type": "code",
   "execution_count": 32,
   "id": "ae75ab1e",
   "metadata": {},
   "outputs": [],
   "source": [
    "# Checks if the final understanding of the user's profile is returned by the assistant as a Python dictionary.\n",
    "def dictionary_present(response):\n",
    "    delimiter = \"####\"\n",
    "\n",
    "\n",
    "    prompt = f\"\"\"\n",
    "    You are a helpful assistant designed to extract specific information from user input. \n",
    "    Your task is to identify and extract a Python dictionary from the given text and return it in JSON format.\n",
    "\n",
    "    The input string will contain a Python dictionary with the following keys and value constraints:\n",
    "\n",
    "    *   **'Restaurant Type'**\n",
    "    *   **'Cuisine Type'**\n",
    "    *   **'Location'**\n",
    "    *   **'Cost for Two'**: Value must be a numerical value (integer or float represented as a string).\n",
    "\n",
    "    Your output should be a valid JSON string representing the extracted dictionary.  \n",
    "    If the input string does not contain a dictionary matching this format, or if the values do not conform to the constraints, \n",
    "    return an empty JSON object: `{{}}`.  \n",
    "    Do not include any surrounding text or explanations in your response, only the JSON string.\n",
    "    \"\"\"\n",
    "    \n",
    "    messages = [{\"role\": \"system\", \"content\":prompt },\n",
    "                {\"role\": \"user\", \"content\":f\"\"\"Here is the user input: {response}\"\"\" }]\n",
    "\n",
    "    confirmation = get_chat_completions(messages, json_format=True)\n",
    "\n",
    "    return confirmation"
   ]
  },
  {
   "cell_type": "code",
   "execution_count": null,
   "id": "16a1ad91",
   "metadata": {},
   "outputs": [],
   "source": []
  },
  {
   "cell_type": "code",
   "execution_count": 33,
   "id": "e35455cc",
   "metadata": {},
   "outputs": [
    {
     "data": {
      "text/plain": [
       "'Great! It sounds like you have some specific preferences in mind. Let me update your profile based on what you\\'ve shared.\\n\\nHere\\'s what I have so far:\\n\\n```json\\n{\\n  \"Restaurant Type\": \"Fine Dining\",\\n  \"Cuisine Type\": \"North Indian\",\\n  \"Location\": \"Whitefield\",\\n  \"Cost for Two\": 2000\\n}\\n```\\n\\nIs this information correct? Would you like to add or change anything?'"
      ]
     },
     "execution_count": 33,
     "metadata": {},
     "output_type": "execute_result"
    }
   ],
   "source": [
    "debug_response_assistant"
   ]
  },
  {
   "cell_type": "code",
   "execution_count": 34,
   "id": "c30bd906",
   "metadata": {},
   "outputs": [
    {
     "name": "stdout",
     "output_type": "stream",
     "text": [
      "{'Restaurant Type': 'Fine Dining', 'Cuisine Type': 'North Indian', 'Location': 'Whitefield', 'Cost for Two': '2000'}\n"
     ]
    }
   ],
   "source": [
    "response_dict_n = dictionary_present(debug_response_assistant)\n",
    "print(response_dict_n)"
   ]
  },
  {
   "cell_type": "code",
   "execution_count": 35,
   "id": "fdd6f492",
   "metadata": {},
   "outputs": [
    {
     "data": {
      "text/plain": [
       "dict"
      ]
     },
     "execution_count": 35,
     "metadata": {},
     "output_type": "execute_result"
    }
   ],
   "source": [
    "type(response_dict_n)"
   ]
  },
  {
   "cell_type": "code",
   "execution_count": null,
   "id": "eb394392",
   "metadata": {},
   "outputs": [],
   "source": []
  },
  {
   "cell_type": "code",
   "execution_count": 95,
   "id": "1b37d55d",
   "metadata": {},
   "outputs": [],
   "source": [
    "# Compares user profile with restaurants dataset and comes back with the top 5 recommendations\n",
    "\n",
    "def compare_restaurants_with_user(user_req_dict):\n",
    "    # Creating a copy of the DataFrame \n",
    "    filtered_rests = rests_df.copy()\n",
    "    #print(filtered_rests.shape)\n",
    "\n",
    "    # Extracting the budget value from user_requirements and converting it to an integer\n",
    "    user_budget = int(user_req_dict.get('Cost for Two'))\n",
    "    #print(user_budget)\n",
    "    # Filtering restaurants based on the budget\n",
    "    filtered_rests = filtered_rests[filtered_rests['avg cost (two people)'] <= user_budget]\n",
    "    #print(filtered_rests.shape)\n",
    "    \n",
    "    # Filtering restaurants based on the location\n",
    "    user_location = user_req_dict.get('Location')\n",
    "    #print(user_location)\n",
    "    filtered_rests = filtered_rests[filtered_rests['area'] == user_location]\n",
    "    #print(filtered_rests.shape)\n",
    "    \n",
    "    # Iterating over each restaurant in the filtered DataFrame to verify based on user requirements\n",
    "    for index, row in filtered_rests.iterrows():\n",
    "        #print(row)\n",
    "        # Filtering restaurants based on the restaurant type\n",
    "        user_req = user_req_dict.get('Restaurant Type')\n",
    "        #print(user_req)\n",
    "        cur_value = row['restaurant type']\n",
    "        cur_value = cur_value.strip()\n",
    "        cur_list = cur_value.split(',')\n",
    "        clean_list = [s.strip() for s in cur_list]\n",
    "        \n",
    "        if(not user_req in clean_list):\n",
    "            filtered_rests.drop(index, inplace=True)\n",
    "            continue\n",
    "        \n",
    "        # Filtering restaurants based on the cuisine type\n",
    "        user_req = user_req_dict.get('Cuisine Type')\n",
    "        #print(user_req)\n",
    "        cur_value = row['cuisines type']\n",
    "        cur_value = cur_value.strip()\n",
    "        cur_list = cur_value.split(',')\n",
    "        clean_list = [s.strip() for s in cur_list]\n",
    "        \n",
    "        if(not user_req in clean_list):\n",
    "            filtered_rests.drop(index, inplace=True)\n",
    "\n",
    "    # Sorting restaurants by rating in descending order and selecting the top 5\n",
    "    top_rests = filtered_rests.sort_values('rate (out of 5)', ascending=False).head(5)\n",
    "    top_rests_json = top_rests.to_json(orient='records')  # Converting to JSON format\n",
    "\n",
    "    # top restaurants\n",
    "    return top_rests_json"
   ]
  },
  {
   "cell_type": "code",
   "execution_count": null,
   "id": "bf8a3094",
   "metadata": {},
   "outputs": [],
   "source": []
  },
  {
   "cell_type": "code",
   "execution_count": 77,
   "id": "1070b916",
   "metadata": {},
   "outputs": [],
   "source": [
    "test_1 = \"\"\"Great! Thank you for sharing your preferences. Let me update your user profile dictionary with the information \n",
    "you provided.\\n\\n- **Restaurant Type:** Casual Dining\\n- **Cuisine Type:** North Indian\\n- **Location:** Whitefield\\n- **Cost for Two:** 2000\\n\\nNow, just to confirm, is this all correct?\"\"\""
   ]
  },
  {
   "cell_type": "code",
   "execution_count": 78,
   "id": "ebd19227",
   "metadata": {},
   "outputs": [
    {
     "name": "stdout",
     "output_type": "stream",
     "text": [
      "{'Restaurant Type': 'Casual Dining', 'Cuisine Type': 'North Indian', 'Location': 'Whitefield', 'Cost for Two': '2000'}\n"
     ]
    }
   ],
   "source": [
    "response_dict_1 = dictionary_present(test_1)\n",
    "print(response_dict_1)"
   ]
  },
  {
   "cell_type": "code",
   "execution_count": 79,
   "id": "aeecbc17",
   "metadata": {},
   "outputs": [
    {
     "name": "stdout",
     "output_type": "stream",
     "text": [
      "(6984, 10)\n",
      "2000\n",
      "(6876, 10)\n",
      "Whitefield\n",
      "(248, 10)\n"
     ]
    },
    {
     "data": {
      "text/plain": [
       "'[{\"restaurant name\":\"Punjab Grill\",\"restaurant type\":\"Casual Dining\",\"rate (out of 5)\":4.8,\"num of ratings\":650,\"avg cost (two people)\":2000.0,\"online_order\":\"Yes\",\"table booking\":\"No\",\"cuisines type\":\"North Indian\",\"area\":\"Whitefield\",\"local address\":\"Whitefield\"},{\"restaurant name\":\"Salt - Indian Restaurant - Bar & Grill\",\"restaurant type\":\"Casual Dining\",\"rate (out of 5)\":4.4,\"num of ratings\":2073,\"avg cost (two people)\":1500.0,\"online_order\":\"No\",\"table booking\":\"Yes\",\"cuisines type\":\"North Indian\",\"area\":\"Whitefield\",\"local address\":\"Whitefield\"},{\"restaurant name\":\"The Creek - The Den Bengaluru\",\"restaurant type\":\"Casual Dining\",\"rate (out of 5)\":4.4,\"num of ratings\":383,\"avg cost (two people)\":2000.0,\"online_order\":\"No\",\"table booking\":\"Yes\",\"cuisines type\":\"North Indian, Continental, Chinese\",\"area\":\"Whitefield\",\"local address\":\"Whitefield\"},{\"restaurant name\":\"Nook - Aloft Bengaluru Cessna Business Park\",\"restaurant type\":\"Casual Dining\",\"rate (out of 5)\":4.2,\"num of ratings\":411,\"avg cost (two people)\":1800.0,\"online_order\":\"No\",\"table booking\":\"Yes\",\"cuisines type\":\"North Indian, Continental, Asian\",\"area\":\"Whitefield\",\"local address\":\"Bellandur\"},{\"restaurant name\":\"BAR BAR\",\"restaurant type\":\"Bar, Casual Dining\",\"rate (out of 5)\":4.1,\"num of ratings\":1003,\"avg cost (two people)\":1500.0,\"online_order\":\"No\",\"table booking\":\"Yes\",\"cuisines type\":\"Continental, North Indian, Italian\",\"area\":\"Whitefield\",\"local address\":\"Whitefield\"}]'"
      ]
     },
     "execution_count": 79,
     "metadata": {},
     "output_type": "execute_result"
    }
   ],
   "source": [
    "top_restaurants = compare_restaurants_with_user(response_dict_1)\n",
    "top_restaurants"
   ]
  },
  {
   "cell_type": "code",
   "execution_count": 80,
   "id": "adfe19bd",
   "metadata": {},
   "outputs": [
    {
     "data": {
      "text/plain": [
       "[{'restaurant name': 'Punjab Grill',\n",
       "  'restaurant type': 'Casual Dining',\n",
       "  'rate (out of 5)': 4.8,\n",
       "  'num of ratings': 650,\n",
       "  'avg cost (two people)': 2000.0,\n",
       "  'online_order': 'Yes',\n",
       "  'table booking': 'No',\n",
       "  'cuisines type': 'North Indian',\n",
       "  'area': 'Whitefield',\n",
       "  'local address': 'Whitefield'},\n",
       " {'restaurant name': 'Salt - Indian Restaurant - Bar & Grill',\n",
       "  'restaurant type': 'Casual Dining',\n",
       "  'rate (out of 5)': 4.4,\n",
       "  'num of ratings': 2073,\n",
       "  'avg cost (two people)': 1500.0,\n",
       "  'online_order': 'No',\n",
       "  'table booking': 'Yes',\n",
       "  'cuisines type': 'North Indian',\n",
       "  'area': 'Whitefield',\n",
       "  'local address': 'Whitefield'},\n",
       " {'restaurant name': 'The Creek - The Den Bengaluru',\n",
       "  'restaurant type': 'Casual Dining',\n",
       "  'rate (out of 5)': 4.4,\n",
       "  'num of ratings': 383,\n",
       "  'avg cost (two people)': 2000.0,\n",
       "  'online_order': 'No',\n",
       "  'table booking': 'Yes',\n",
       "  'cuisines type': 'North Indian, Continental, Chinese',\n",
       "  'area': 'Whitefield',\n",
       "  'local address': 'Whitefield'},\n",
       " {'restaurant name': 'Nook - Aloft Bengaluru Cessna Business Park',\n",
       "  'restaurant type': 'Casual Dining',\n",
       "  'rate (out of 5)': 4.2,\n",
       "  'num of ratings': 411,\n",
       "  'avg cost (two people)': 1800.0,\n",
       "  'online_order': 'No',\n",
       "  'table booking': 'Yes',\n",
       "  'cuisines type': 'North Indian, Continental, Asian',\n",
       "  'area': 'Whitefield',\n",
       "  'local address': 'Bellandur'},\n",
       " {'restaurant name': 'BAR BAR',\n",
       "  'restaurant type': 'Bar, Casual Dining',\n",
       "  'rate (out of 5)': 4.1,\n",
       "  'num of ratings': 1003,\n",
       "  'avg cost (two people)': 1500.0,\n",
       "  'online_order': 'No',\n",
       "  'table booking': 'Yes',\n",
       "  'cuisines type': 'Continental, North Indian, Italian',\n",
       "  'area': 'Whitefield',\n",
       "  'local address': 'Whitefield'}]"
      ]
     },
     "execution_count": 80,
     "metadata": {},
     "output_type": "execute_result"
    }
   ],
   "source": [
    "# Get output in JSON Format\n",
    "top_rests_json = json.loads(top_restaurants)\n",
    "top_rests_json"
   ]
  },
  {
   "cell_type": "code",
   "execution_count": null,
   "id": "6e6360d3",
   "metadata": {},
   "outputs": [],
   "source": []
  },
  {
   "cell_type": "code",
   "execution_count": 91,
   "id": "579b2486",
   "metadata": {},
   "outputs": [],
   "source": [
    "# Initializes the recommendations conversation\n",
    "def initialize_conv_reco(products):\n",
    "    system_message = f\"\"\"\n",
    "    You are an restaurant recommendation expert and you are tasked with the objective to \\\n",
    "    solve the user queries about any restaurant from the catalogue in the user message \\\n",
    "    You should keep the user profile in mind while answering the questions.\\\n",
    "\n",
    "    Start with a brief summary of each restaurant in the following format. Maintain the order in the user input:\n",
    "    1. <Restaurant Name> : <Details like cuisines, location, cost, address etc.>, <Rating(out of 5)>\n",
    "    2. <Restaurant Name> : <Details like cuisines, location, cost, address etc.>, <Rating (out of 5)>\n",
    "\n",
    "    \"\"\"\n",
    "    user_message = f\"\"\" These are the user's input restaurants: {products}\"\"\"\n",
    "    conversation = [{\"role\": \"system\", \"content\": system_message },\n",
    "                    {\"role\":\"user\",\"content\":user_message}]\n",
    "\n",
    "    return conversation"
   ]
  },
  {
   "cell_type": "code",
   "execution_count": 92,
   "id": "fc52e6c2",
   "metadata": {},
   "outputs": [
    {
     "data": {
      "text/plain": [
       "[{'role': 'system',\n",
       "  'content': '\\n    You are an restaurant recommendation expert and you are tasked with the objective to     solve the user queries about any restaurant from the catalogue in the user message     You should keep the user profile in mind while answering the questions.\\n    Start with a brief summary of each restaurant in the following format. Maintain the order in the user input:\\n    1. <Restaurant Name> : <Details like cuisines, location, cost, address etc.>, <Rating(out of 5)>\\n    2. <Restaurant Name> : <Details like cuisines, location, cost, address etc.>, <Rating (out of 5)>\\n\\n    '},\n",
       " {'role': 'user',\n",
       "  'content': ' These are the user\\'s input restaurants: [{\"restaurant name\":\"Punjab Grill\",\"restaurant type\":\"Casual Dining\",\"rate (out of 5)\":4.8,\"num of ratings\":650,\"avg cost (two people)\":2000.0,\"online_order\":\"Yes\",\"table booking\":\"No\",\"cuisines type\":\"North Indian\",\"area\":\"Whitefield\",\"local address\":\"Whitefield\"},{\"restaurant name\":\"Salt - Indian Restaurant - Bar & Grill\",\"restaurant type\":\"Casual Dining\",\"rate (out of 5)\":4.4,\"num of ratings\":2073,\"avg cost (two people)\":1500.0,\"online_order\":\"No\",\"table booking\":\"Yes\",\"cuisines type\":\"North Indian\",\"area\":\"Whitefield\",\"local address\":\"Whitefield\"},{\"restaurant name\":\"The Creek - The Den Bengaluru\",\"restaurant type\":\"Casual Dining\",\"rate (out of 5)\":4.4,\"num of ratings\":383,\"avg cost (two people)\":2000.0,\"online_order\":\"No\",\"table booking\":\"Yes\",\"cuisines type\":\"North Indian, Continental, Chinese\",\"area\":\"Whitefield\",\"local address\":\"Whitefield\"},{\"restaurant name\":\"Nook - Aloft Bengaluru Cessna Business Park\",\"restaurant type\":\"Casual Dining\",\"rate (out of 5)\":4.2,\"num of ratings\":411,\"avg cost (two people)\":1800.0,\"online_order\":\"No\",\"table booking\":\"Yes\",\"cuisines type\":\"North Indian, Continental, Asian\",\"area\":\"Whitefield\",\"local address\":\"Bellandur\"},{\"restaurant name\":\"BAR BAR\",\"restaurant type\":\"Bar, Casual Dining\",\"rate (out of 5)\":4.1,\"num of ratings\":1003,\"avg cost (two people)\":1500.0,\"online_order\":\"No\",\"table booking\":\"Yes\",\"cuisines type\":\"Continental, North Indian, Italian\",\"area\":\"Whitefield\",\"local address\":\"Whitefield\"}]'}]"
      ]
     },
     "execution_count": 92,
     "metadata": {},
     "output_type": "execute_result"
    }
   ],
   "source": [
    "debug_conversation_reco = initialize_conv_reco(top_restaurants)\n",
    "debug_conversation_reco"
   ]
  },
  {
   "cell_type": "code",
   "execution_count": null,
   "id": "86c55ddb",
   "metadata": {},
   "outputs": [],
   "source": []
  },
  {
   "cell_type": "code",
   "execution_count": 83,
   "id": "12cc41fd",
   "metadata": {},
   "outputs": [],
   "source": [
    "# Define a function called moderation_check that takes user_input as a parameter.\n",
    "\n",
    "def moderation_check(user_input):\n",
    "    # Call the OpenAI API to perform moderation on the user's input.\n",
    "    response = openai.moderations.create(input=user_input)\n",
    "\n",
    "    # Extract the moderation result from the API response.\n",
    "    moderation_output = response.results[0].flagged\n",
    "    # Check if the input was flagged by the moderation system.\n",
    "    if response.results[0].flagged == True:\n",
    "        # If flagged, return \"Flagged\"\n",
    "        return \"Flagged\"\n",
    "    else:\n",
    "        # If not flagged, return \"Not Flagged\"\n",
    "        return \"Not Flagged\""
   ]
  },
  {
   "cell_type": "code",
   "execution_count": 84,
   "id": "a07b0248",
   "metadata": {},
   "outputs": [
    {
     "name": "stdout",
     "output_type": "stream",
     "text": [
      "Flagged\n",
      "Not Flagged\n"
     ]
    }
   ],
   "source": [
    "print(moderation_check(\"I want to kill Ravan.\"))\n",
    "print(moderation_check(\"I need good food\"))"
   ]
  },
  {
   "cell_type": "code",
   "execution_count": null,
   "id": "829d2338",
   "metadata": {},
   "outputs": [],
   "source": []
  },
  {
   "cell_type": "code",
   "execution_count": null,
   "id": "f88916c6",
   "metadata": {},
   "outputs": [],
   "source": []
  },
  {
   "cell_type": "code",
   "execution_count": 85,
   "id": "5f58a1d9",
   "metadata": {},
   "outputs": [],
   "source": [
    "# The final orchestration function that manages the whole conversation with the user \n",
    "def dialogue_mgmt_system():\n",
    "    conversation = initialize_conversation()\n",
    "\n",
    "    introduction = get_chat_completions(conversation)\n",
    "\n",
    "    display(introduction + '\\n')\n",
    "\n",
    "    top_restaurants = None\n",
    "\n",
    "    user_input = ''\n",
    "\n",
    "    while(user_input != \"exit\"):\n",
    "\n",
    "        user_input = input(\"\")\n",
    "\n",
    "        moderation = moderation_check(user_input)\n",
    "        if moderation == 'Flagged':\n",
    "            display(\"Sorry, this message has been flagged. Please restart your conversation.\")\n",
    "            break\n",
    "\n",
    "        if top_restaurants is None:\n",
    "\n",
    "            conversation.append({\"role\": \"user\", \"content\": user_input})\n",
    "\n",
    "            response_assistant = get_chat_completions(conversation)\n",
    "            moderation = moderation_check(response_assistant)\n",
    "            if moderation == 'Flagged':\n",
    "                display(\"Sorry, this message has been flagged. Please restart your conversation.\")\n",
    "                break\n",
    "\n",
    "\n",
    "            confirmation = intent_confirmation_layer(response_assistant)\n",
    "\n",
    "            print(\"Intent Confirmation Yes/No:\",confirmation.get('result'))\n",
    "\n",
    "            if \"No\" in confirmation.get('result'):\n",
    "                conversation.append({\"role\": \"assistant\", \"content\": str(response_assistant)})\n",
    "                print(\"\\n\" + str(response_assistant) + \"\\n\")\n",
    "\n",
    "            else:\n",
    "                print(\"\\n\" + str(response_assistant) + \"\\n\")\n",
    "                print('\\n' + \"Variables extracted!\" + '\\n')\n",
    "\n",
    "                response = dictionary_present(response_assistant)\n",
    "\n",
    "                print(\"Thank you for providing all the information. Kindly wait, while I fetch the products: \\n\")\n",
    "                top_restaurants = compare_restaurants_with_user(response)\n",
    "\n",
    "                print(\"top restaurants recommended are\", top_restaurants)\n",
    "\n",
    "                conversation_reco = initialize_conv_reco(top_restaurants)\n",
    "\n",
    "                conversation_reco.append({\"role\": \"user\", \"content\": \"This is my user profile\" + str(response)})\n",
    "\n",
    "                recommendation = get_chat_completions(conversation_reco)\n",
    "\n",
    "                moderation = moderation_check(recommendation)\n",
    "                if moderation == 'Flagged':\n",
    "                    display(\"Sorry, this message has been flagged. Please restart your conversation.\")\n",
    "                    break\n",
    "\n",
    "                conversation_reco.append({\"role\": \"assistant\", \"content\": str(recommendation)})\n",
    "\n",
    "                print(str(recommendation) + '\\n')\n",
    "        else:\n",
    "            conversation_reco.append({\"role\": \"user\", \"content\": user_input})\n",
    "\n",
    "            response_asst_reco = get_chat_completions(conversation_reco)\n",
    "\n",
    "            moderation = moderation_check(response_asst_reco)\n",
    "            if moderation == 'Flagged':\n",
    "                print(\"Sorry, this message has been flagged. Please restart your conversation.\")\n",
    "                break\n",
    "\n",
    "            print('\\n' + response_asst_reco + '\\n')\n",
    "            conversation.append({\"role\": \"assistant\", \"content\": response_asst_reco})"
   ]
  },
  {
   "cell_type": "code",
   "execution_count": null,
   "id": "5103716a",
   "metadata": {},
   "outputs": [],
   "source": []
  },
  {
   "cell_type": "code",
   "execution_count": 88,
   "id": "d2a93bff",
   "metadata": {},
   "outputs": [
    {
     "data": {
      "text/plain": [
       "\"Hello! I'm here to help you find the perfect restaurant. To start, can you tell me a bit about what kind of dining experience you're looking for? For example, do you prefer casual dining, fine dining, a pub, or something else?\\n\""
      ]
     },
     "metadata": {},
     "output_type": "display_data"
    },
    {
     "name": "stdout",
     "output_type": "stream",
     "text": [
      "Looking for a fine dining restaurant in Whitefield\n",
      "Intent Confirmation Yes/No: No\n",
      "\n",
      "Great choice! Fine dining is always a wonderful experience. To tailor the recommendation to your taste, could you let me know what type of cuisine you prefer? For example, do you enjoy North Indian, Italian, Thai, or something else?\n",
      "\n",
      "North Indian\n",
      "Intent Confirmation Yes/No: No\n",
      "\n",
      "Excellent! North Indian cuisine offers such a rich variety of flavors. Now, could you tell me what your budget is? Specifically, what is the cost for two people for a meal, roughly?\n",
      "\n",
      "2000\n",
      "Intent Confirmation Yes/No: Yes\n",
      "\n",
      "Thank you for that information! So far, I have:\n",
      "\n",
      "- **Restaurant Type:** Fine Dining\n",
      "- **Cuisine Type:** North Indian\n",
      "- **Location:** Whitefield\n",
      "- **Cost for Two:** 2000\n",
      "\n",
      "Before I finalize this user profile, is there anything else specific you'd like to add or clarify? For example, do you have a preference for any particular dishes or ingredients you love or dislike?\n",
      "\n",
      "\n",
      "Variables extracted!\n",
      "\n",
      "Thank you for providing all the information. Kindly wait, while I fetch the products: \n",
      "\n",
      "top restaurants recommended are [{\"restaurant name\":\"Latitude Whitefield\",\"restaurant type\":\"Fine Dining\",\"rate (out of 5)\":3.9,\"num of ratings\":327,\"avg cost (two people)\":2000.0,\"online_order\":\"No\",\"table booking\":\"Yes\",\"cuisines type\":\"North Indian, Continental, Asian, Italian\",\"area\":\"Whitefield\",\"local address\":\"Whitefield\"},{\"restaurant name\":\"Tiffin Room - Miraya Hotel & Residences\",\"restaurant type\":\"Fine Dining\",\"rate (out of 5)\":3.7,\"num of ratings\":138,\"avg cost (two people)\":2000.0,\"online_order\":\"No\",\"table booking\":\"Yes\",\"cuisines type\":\"North Indian, South Indian, Asian\",\"area\":\"Whitefield\",\"local address\":\"Whitefield\"}]\n",
      "Based on your profile and preferences, here are the recommended restaurants in Whitefield:\n",
      "\n",
      "1. **Latitude Whitefield**: A Fine Dining restaurant offering a mix of North Indian, Continental, Asian, and Italian cuisines. Located in Whitefield, it has an average cost of ₹2000 for two people. Online ordering is not available, but table booking is an option. **Rating: 3.9/5**\n",
      "\n",
      "2. **Tiffin Room - Miraya Hotel & Residences**: This Fine Dining establishment serves North Indian, South Indian, and Asian cuisines. Situated in Whitefield, it also has an average cost of ₹2000 for two people. Online ordering is not available, but you can book a table. **Rating: 3.7/5** \n",
      "\n",
      "Let me know if you need more information or assistance!\n",
      "\n",
      "which of these contain South Indian cuisine as well?\n",
      "\n",
      "The restaurant that offers South Indian cuisine in addition to your preferred North Indian cuisine is:\n",
      "\n",
      "- **Tiffin Room - Miraya Hotel & Residences**: This Fine Dining restaurant serves North Indian, South Indian, and Asian cuisines. It is located in Whitefield with an average cost of ₹2000 for two people. \n",
      "\n",
      "If you have any more questions or need further assistance, feel free to ask!\n",
      "\n",
      "exit\n",
      "\n",
      "The restaurant that contains South Indian cuisine is:\n",
      "\n",
      "- **Tiffin Room - Miraya Hotel & Residences**: Offers a menu that includes North Indian, South Indian, and Asian cuisines.\n",
      "\n",
      "If you have any more questions or need further assistance, feel free to ask! Have a great day!\n",
      "\n"
     ]
    }
   ],
   "source": [
    "dialogue_mgmt_system()"
   ]
  },
  {
   "cell_type": "code",
   "execution_count": null,
   "id": "2cf80f50",
   "metadata": {},
   "outputs": [],
   "source": []
  },
  {
   "cell_type": "code",
   "execution_count": 94,
   "id": "a8fb2e73",
   "metadata": {},
   "outputs": [
    {
     "data": {
      "text/plain": [
       "\"Hello! I'm here to help you find the perfect restaurant. To start, can you tell me a bit about what kind of dining experience you're looking for? For example, do you prefer casual dining, fine dining, a pub, or something else?\\n\""
      ]
     },
     "metadata": {},
     "output_type": "display_data"
    },
    {
     "name": "stdout",
     "output_type": "stream",
     "text": [
      "Looking for casual dining in HSR location\n",
      "Intent Confirmation Yes/No: No\n",
      "\n",
      "Great start! It sounds like you're interested in casual dining in the HSR area. Would you like to share what type of cuisine you're in the mood for? For example, do you prefer North Indian, Italian, Thai, or something else?\n",
      "\n",
      "North Indian\n",
      "Intent Confirmation Yes/No: No\n",
      "\n",
      "Got it! You’re looking for casual dining options with North Indian cuisine in the HSR area. Now, could you please tell me your budget? Specifically, what is the cost for two people for a meal?\n",
      "\n",
      "2000\n",
      "Intent Confirmation Yes/No: Yes\n",
      "\n",
      "Thanks for sharing that! So far, here's what we have for your profile:\n",
      "\n",
      "- **Restaurant Type:** Casual Dining\n",
      "- **Cuisine Type:** North Indian\n",
      "- **Location:** HSR\n",
      "- **Cost for Two:** 2000\n",
      "\n",
      "Is there anything else you'd like to add or clarify? For example, do you have a preference for any specific dishes or any dietary restrictions?\n",
      "\n",
      "\n",
      "Variables extracted!\n",
      "\n",
      "Thank you for providing all the information. Kindly wait, while I fetch the products: \n",
      "\n",
      "top restaurants recommended are [{\"restaurant name\":\"TBC Sky Lounge\",\"restaurant type\":\"Casual Dining, Bar\",\"rate (out of 5)\":4.7,\"num of ratings\":6745,\"avg cost (two people)\":1000.0,\"online_order\":\"No\",\"table booking\":\"Yes\",\"cuisines type\":\"Continental, Asian, Italian, North Indian\",\"area\":\"HSR\",\"local address\":\"HSR\"},{\"restaurant name\":\"Blk Plus Wht\",\"restaurant type\":\"Casual Dining, Cafe\",\"rate (out of 5)\":4.3,\"num of ratings\":112,\"avg cost (two people)\":800.0,\"online_order\":\"No\",\"table booking\":\"No\",\"cuisines type\":\"Asian, Thai, North Indian\",\"area\":\"HSR\",\"local address\":\"HSR\"},{\"restaurant name\":\"Cirkus\",\"restaurant type\":\"Bar, Casual Dining\",\"rate (out of 5)\":4.3,\"num of ratings\":331,\"avg cost (two people)\":1400.0,\"online_order\":\"No\",\"table booking\":\"Yes\",\"cuisines type\":\"North Indian, Continental, Fast Food, Beverages, Pizza\",\"area\":\"HSR\",\"local address\":\"HSR\"},{\"restaurant name\":\"The Fisherman's Wharf\",\"restaurant type\":\"Casual Dining, Bar\",\"rate (out of 5)\":4.3,\"num of ratings\":4108,\"avg cost (two people)\":1400.0,\"online_order\":\"Yes\",\"table booking\":\"Yes\",\"cuisines type\":\"Seafood, Goan, North Indian, Continental, Asian\",\"area\":\"HSR\",\"local address\":\"Sarjapur Road\"},{\"restaurant name\":\"Baithak\",\"restaurant type\":\"Casual Dining, Bar\",\"rate (out of 5)\":4.2,\"num of ratings\":1383,\"avg cost (two people)\":1100.0,\"online_order\":\"No\",\"table booking\":\"No\",\"cuisines type\":\"Continental, North Indian, Mughlai\",\"area\":\"HSR\",\"local address\":\"HSR\"}]\n",
      "Here are some restaurant recommendations based on your profile:\n",
      "\n",
      "1. **TBC Sky Lounge** : A Casual Dining and Bar offering a mix of Continental, Asian, Italian, and North Indian cuisines. Located in HSR, this restaurant has an average cost of 1000 for two people, making it budget-friendly. It has table booking available and boasts a rating of 4.7 out of 5, based on 6745 ratings. \n",
      "   \n",
      "2. **Blk Plus Wht** : A Casual Dining Cafe specializing in Asian, Thai, and North Indian cuisines, also located in HSR. The cost for two is approximately 800, with no online orders or table booking available. It has a rating of 4.3 out of 5 from 112 ratings.\n",
      "\n",
      "3. **Cirkus** : This Bar and Casual Dining venue offers a variety of North Indian, Continental, Fast Food, Beverages, and Pizza options. Situated in HSR, it has an average cost of 1400 for two people. Table booking is available and the restaurant has a rating of 4.3 out of 5 based on 331 ratings. \n",
      "\n",
      "4. **The Fisherman's Wharf** : A Casual Dining and Bar that features Seafood, Goan, North Indian, Continental, and Asian cuisines. Located on Sarjapur Road in HSR, it has an average cost of 1400 for two people, offers online ordering and table booking, and holds a rating of 4.3 out of 5 from 4108 ratings.\n",
      "\n",
      "5. **Baithak** : This Casual Dining Bar specializes in Continental, North Indian, and Mughlai cuisines, located in HSR. With an average cost of 1100 for two people, it does not offer online ordering or table booking. Its rating stands at 4.2 out of 5 based on 1383 ratings.\n",
      "\n",
      "Based on your preference for North Indian cuisine and your budget of up to 2000 for two, you might particularly enjoy **TBC Sky Lounge** and **Cirkus** for a good mix of ambiance and North Indian dishes.\n",
      "\n",
      "exit\n",
      "\n",
      "Thank you! If you have any more questions in the future or need restaurant recommendations, feel free to reach out. Have a great day!\n",
      "\n"
     ]
    }
   ],
   "source": [
    "dialogue_mgmt_system()"
   ]
  },
  {
   "cell_type": "code",
   "execution_count": null,
   "id": "1839107b",
   "metadata": {},
   "outputs": [],
   "source": []
  },
  {
   "cell_type": "code",
   "execution_count": null,
   "id": "0b482203",
   "metadata": {},
   "outputs": [],
   "source": []
  },
  {
   "cell_type": "code",
   "execution_count": null,
   "id": "c2949815",
   "metadata": {},
   "outputs": [],
   "source": []
  },
  {
   "cell_type": "code",
   "execution_count": null,
   "id": "5e1e1aa2",
   "metadata": {},
   "outputs": [],
   "source": []
  },
  {
   "cell_type": "code",
   "execution_count": null,
   "id": "3c5a93ba",
   "metadata": {},
   "outputs": [],
   "source": []
  }
 ],
 "metadata": {
  "kernelspec": {
   "display_name": "Python 3 (ipykernel)",
   "language": "python",
   "name": "python3"
  },
  "language_info": {
   "codemirror_mode": {
    "name": "ipython",
    "version": 3
   },
   "file_extension": ".py",
   "mimetype": "text/x-python",
   "name": "python",
   "nbconvert_exporter": "python",
   "pygments_lexer": "ipython3",
   "version": "3.11.3"
  }
 },
 "nbformat": 4,
 "nbformat_minor": 5
}
